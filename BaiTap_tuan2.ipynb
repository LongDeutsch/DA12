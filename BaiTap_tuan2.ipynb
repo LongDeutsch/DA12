{
 "cells": [
  {
   "cell_type": "markdown",
   "id": "8dd47913",
   "metadata": {},
   "source": [
    "### Dữ liệu giá cổ phiếu: Viết vòng lặp xác định nếu giá cp lên 7% so với ngày hôm trước thì bán, xuống % so với ngày hôm trước thì mua"
   ]
  },
  {
   "cell_type": "code",
   "execution_count": 14,
   "id": "9133bc0f",
   "metadata": {},
   "outputs": [],
   "source": [
    "gia_cp = [10.1, 9.5, 10.7, 10.8, 10.6, 10.0, 10.7, 9.5, 9.5, 10.165]"
   ]
  },
  {
   "cell_type": "code",
   "execution_count": 15,
   "id": "9da3e57e",
   "metadata": {},
   "outputs": [
    {
     "name": "stdout",
     "output_type": "stream",
     "text": [
      "Ngày 1: Giá cổ phiếu giảm 6.0% \n",
      "Mua\n",
      "\n",
      "Ngày 2: Giá cổ phiếu tăng 13.0% \n",
      "Bán\n",
      "\n",
      "Ngày 3: Giữ\n",
      "\n",
      "Ngày 4: Giữ\n",
      "\n",
      "Ngày 5: Giá cổ phiếu giảm 6.0% \n",
      "Mua\n",
      "\n",
      "Ngày 6: Giá cổ phiếu tăng 7.000000000000001% \n",
      "Bán\n",
      "\n",
      "Ngày 7: Giá cổ phiếu giảm 11.0% \n",
      "Mua\n",
      "\n",
      "Ngày 8: Giữ\n",
      "\n",
      "Ngày 9: Giá cổ phiếu tăng 7.000000000000001% \n",
      "Bán\n",
      "\n"
     ]
    }
   ],
   "source": [
    "for ind, val in enumerate(gia_cp):\n",
    "    if ind > 0:\n",
    "        ratio_ = round((val - gia_cp[ind-1])/gia_cp[ind-1], 2)\n",
    "        if ratio_ >= 0.07:\n",
    "            print(f'Ngày {ind}: Giá cổ phiếu tăng {ratio_*100}% \\nBán\\n')\n",
    "        elif ratio_ <= -0.05:\n",
    "            print(f'Ngày {ind}: Giá cổ phiếu giảm {abs(ratio_*100)}% \\nMua\\n')\n",
    "        else:\n",
    "            print(f'Ngày {ind}: Giữ\\n')"
   ]
  },
  {
   "cell_type": "code",
   "execution_count": 16,
   "id": "33d47d68",
   "metadata": {},
   "outputs": [],
   "source": [
    "def ban_mua_cp(gia_cp):\n",
    "    for ind, val in enumerate(gia_cp):\n",
    "        if ind > 0:\n",
    "            ratio_ = round((val - gia_cp[ind-1])/gia_cp[ind-1], 2)\n",
    "            if ratio_ >= 0.07:\n",
    "                print(f'Ngày {ind}: Giá cổ phiếu tăng {ratio_}% \\nBán\\n')\n",
    "            elif ratio_ <= -0.05:\n",
    "                print(f'Ngày {ind}: Giá cổ phiếu giảm {abs(ratio_)}% \\nMua\\n')\n",
    "            else:\n",
    "                print(f'Ngày {ind}: Giữ\\n')"
   ]
  },
  {
   "cell_type": "code",
   "execution_count": 17,
   "id": "dacad262",
   "metadata": {},
   "outputs": [
    {
     "name": "stdout",
     "output_type": "stream",
     "text": [
      "Ngày 1: Giá cổ phiếu giảm 0.06% \n",
      "Mua\n",
      "\n",
      "Ngày 2: Giá cổ phiếu tăng 0.13% \n",
      "Bán\n",
      "\n",
      "Ngày 3: Giữ\n",
      "\n",
      "Ngày 4: Giữ\n",
      "\n",
      "Ngày 5: Giá cổ phiếu giảm 0.06% \n",
      "Mua\n",
      "\n",
      "Ngày 6: Giá cổ phiếu tăng 0.07% \n",
      "Bán\n",
      "\n",
      "Ngày 7: Giá cổ phiếu giảm 0.11% \n",
      "Mua\n",
      "\n",
      "Ngày 8: Giữ\n",
      "\n",
      "Ngày 9: Giá cổ phiếu tăng 0.07% \n",
      "Bán\n",
      "\n"
     ]
    }
   ],
   "source": [
    "ban_mua_cp(gia_cp)"
   ]
  },
  {
   "cell_type": "markdown",
   "id": "27d39e37",
   "metadata": {},
   "source": [
    "### Kiểm tra số nguyên tố"
   ]
  },
  {
   "cell_type": "markdown",
   "id": "340412ae",
   "metadata": {},
   "source": [
    "+ Số nguyên tố là số lớn hơn 1, chỉ chia hết cho chính nó và chia hết cho 1\n",
    "+  kiểm tra xem n có phải là bội số của bất kỳ số nguyên nào giữa 2 và sqrt(n) hay không."
   ]
  },
  {
   "cell_type": "code",
   "execution_count": 3,
   "id": "203e88b1",
   "metadata": {},
   "outputs": [
    {
     "data": {
      "text/plain": [
       "str"
      ]
     },
     "execution_count": 3,
     "metadata": {},
     "output_type": "execute_result"
    }
   ],
   "source": [
    "n = 'long'\n",
    "type(n)"
   ]
  },
  {
   "cell_type": "code",
   "execution_count": 22,
   "id": "9c1f80ea",
   "metadata": {},
   "outputs": [
    {
     "name": "stdout",
     "output_type": "stream",
     "text": [
      "Nhập 1 số nguyên: 9\n",
      "9 không là số nguyên tố\n"
     ]
    }
   ],
   "source": [
    "import numpy as np\n",
    "\n",
    "def KiemTraSNT(n):\n",
    "    try:\n",
    "        n = int(input('Nhập 1 số nguyên: '))\n",
    "    except:\n",
    "        print('Nhập số nguyên')\n",
    "        return None\n",
    "    count = 0\n",
    "    if n<=1 or type(n) != int:\n",
    "        print(f'{n} không phải là số nguyên tố')\n",
    "    elif n==2:\n",
    "        print(f'{n} là số nguyên tố')\n",
    "    else:\n",
    "        for i in range(2,int(np.sqrt(n))+1):\n",
    "            if (n%i)==0:\n",
    "                count+=1\n",
    "                continue\n",
    "        if count==0:\n",
    "            print(f'{n} là số nguyên tố')\n",
    "        else:\n",
    "            print(f'{n} không là số nguyên tố')\n",
    "KiemTraSNT(n)"
   ]
  },
  {
   "cell_type": "code",
   "execution_count": 23,
   "id": "e83813d0",
   "metadata": {},
   "outputs": [],
   "source": [
    "def KiemTraSNT_list(n):\n",
    "    count = 0\n",
    "    for value in n:\n",
    "        if value<=1 or type(value)!=int:\n",
    "            print(f'{value} không phải là số nguyên tố')\n",
    "        elif value==2:\n",
    "            print(f'{value} là số nguyên tố')\n",
    "        else:\n",
    "            for i in range(2,int(np.sqrt(value))+1):\n",
    "                if (value%i)==0:\n",
    "                    count+=1\n",
    "            if count==0:\n",
    "                print(f'{value} là số nguyên tố')\n",
    "            else:\n",
    "                print(f'{value} không là số nguyên tố')\n",
    "        count = 0"
   ]
  },
  {
   "cell_type": "code",
   "execution_count": 24,
   "id": "22c3b89f",
   "metadata": {},
   "outputs": [
    {
     "name": "stdout",
     "output_type": "stream",
     "text": [
      "-2 không phải là số nguyên tố\n",
      "3.3 không phải là số nguyên tố\n",
      "5 là số nguyên tố\n",
      "7 là số nguyên tố\n",
      "11 là số nguyên tố\n",
      "13 là số nguyên tố\n",
      "17 là số nguyên tố\n",
      "19 là số nguyên tố\n",
      "23 là số nguyên tố\n",
      "4 không là số nguyên tố\n",
      "10 không là số nguyên tố\n",
      "12 không là số nguyên tố\n",
      "16 không là số nguyên tố\n",
      "18 không là số nguyên tố\n",
      "66 không là số nguyên tố\n",
      "122 không là số nguyên tố\n",
      "200 không là số nguyên tố\n",
      "29 là số nguyên tố\n",
      "31 là số nguyên tố\n",
      "37 là số nguyên tố\n",
      "41 là số nguyên tố\n"
     ]
    }
   ],
   "source": [
    "KiemTraSNT_list([-2, 3.3, 5, 7, 11, 13, 17, 19, 23, 4, 10, 12, 16, 18, 66, 122, 200,29, 31, 37, 41 ])"
   ]
  },
  {
   "cell_type": "markdown",
   "id": "97bdad6f",
   "metadata": {},
   "source": [
    "### Viết hàm tính tiền bảo hiểm và thuế thu nhập cá nhân cho các nhân viên"
   ]
  },
  {
   "cell_type": "code",
   "execution_count": 25,
   "id": "67269d82",
   "metadata": {},
   "outputs": [
    {
     "name": "stdout",
     "output_type": "stream",
     "text": [
      "0.8 0.895\n",
      "invalid salary/allowance\n",
      "None None\n",
      "salary or allowance must greater than 0\n",
      "None None\n"
     ]
    }
   ],
   "source": [
    "def CalBHXH_CalPIT(salary,allowance=0):\n",
    "\n",
    "    if type(salary) is str or type(allowance) is str:\n",
    "        print(\"invalid salary/allowance\")\n",
    "        BHXH =  None\n",
    "        Tax = None\n",
    "        return BHXH,Tax\n",
    "    if salary < 0 or allowance <0:\n",
    "        print(\"salary or allowance must greater than 0\")\n",
    "        BHXH =  None\n",
    "        Tax = None\n",
    "        return BHXH,Tax\n",
    "        \n",
    "    BHXH=salary*8/100\n",
    "    BHYT=salary*1.5/100\n",
    "    BHTN=salary*1/100\n",
    "    Salary_Tax=salary - BHYT -BHTN -BHXH # thu nhập chịu thuế = thu nhập tính thuế - các khoản giảm trừ\n",
    "    Tax=0.0\n",
    "    \n",
    "    if Salary_Tax < 5:\n",
    "        Tax=Salary_Tax*5/100\n",
    "    elif Salary_Tax<10:\n",
    "        Tax=Salary_Tax*10/100\n",
    "    elif Salary_Tax<18:\n",
    "        Tax=Salary_Tax*15/100\n",
    "    elif Salary_Tax<32:\n",
    "         Tax=Salary_Tax*20/100\n",
    "    elif Salary_Tax<52:\n",
    "        Tax=Salary_Tax*25/100\n",
    "    elif Salary_Tax<80:\n",
    "        Tax=Salary_Tax*30/100\n",
    "    else:\n",
    "        Tax=Salary_Tax*35/100\n",
    "    return BHXH,Tax\n",
    "\n",
    "\n",
    "x,y=CalBHXH_CalPIT(10,2.5)\n",
    "print(x,y)\n",
    "x,y=CalBHXH_CalPIT(\"salary\",\"allowance\")\n",
    "print(x,y)\n",
    "x,y=CalBHXH_CalPIT(-5,4)\n",
    "print(x,y)"
   ]
  },
  {
   "cell_type": "code",
   "execution_count": null,
   "id": "34feaea5",
   "metadata": {},
   "outputs": [],
   "source": []
  }
 ],
 "metadata": {
  "kernelspec": {
   "display_name": "Python 3 (ipykernel)",
   "language": "python",
   "name": "python3"
  },
  "language_info": {
   "codemirror_mode": {
    "name": "ipython",
    "version": 3
   },
   "file_extension": ".py",
   "mimetype": "text/x-python",
   "name": "python",
   "nbconvert_exporter": "python",
   "pygments_lexer": "ipython3",
   "version": "3.8.8"
  }
 },
 "nbformat": 4,
 "nbformat_minor": 5
}
