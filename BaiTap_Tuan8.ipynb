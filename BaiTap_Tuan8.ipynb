{
 "cells": [
  {
   "cell_type": "code",
   "execution_count": 1,
   "id": "0820b59b",
   "metadata": {},
   "outputs": [],
   "source": [
    "import pandas as pd\n",
    "import numpy as np\n",
    "from matplotlib import pyplot as plt\n",
    "np.set_printoptions(precision=3, suppress=True)"
   ]
  },
  {
   "cell_type": "markdown",
   "id": "6f297389",
   "metadata": {},
   "source": [
    "# Bai 1"
   ]
  },
  {
   "cell_type": "markdown",
   "id": "1466f41e",
   "metadata": {},
   "source": [
    "+ Tìm 10 departments bán được nhiều sản phẩm nhất\n",
    "+ Vẽ biểu đồ cột và tinh chỉnh hiển thị số liệu sao cho thuận lợi trình bày, người\n",
    "xem chỉ cần nhìn biểu đồ là nắm được đầy đủ thông tin\n",
    "(cần có title, số liệu cho từng cột, tên các cột)"
   ]
  },
  {
   "cell_type": "code",
   "execution_count": 14,
   "id": "433268c9",
   "metadata": {},
   "outputs": [
    {
     "data": {
      "text/html": [
       "<div>\n",
       "<style scoped>\n",
       "    .dataframe tbody tr th:only-of-type {\n",
       "        vertical-align: middle;\n",
       "    }\n",
       "\n",
       "    .dataframe tbody tr th {\n",
       "        vertical-align: top;\n",
       "    }\n",
       "\n",
       "    .dataframe thead th {\n",
       "        text-align: right;\n",
       "    }\n",
       "</style>\n",
       "<table border=\"1\" class=\"dataframe\">\n",
       "  <thead>\n",
       "    <tr style=\"text-align: right;\">\n",
       "      <th></th>\n",
       "      <th>order_id</th>\n",
       "      <th>product_id</th>\n",
       "      <th>add_to_cart_order</th>\n",
       "      <th>reordered</th>\n",
       "    </tr>\n",
       "  </thead>\n",
       "  <tbody>\n",
       "    <tr>\n",
       "      <th>0</th>\n",
       "      <td>2</td>\n",
       "      <td>33120</td>\n",
       "      <td>1</td>\n",
       "      <td>1</td>\n",
       "    </tr>\n",
       "    <tr>\n",
       "      <th>1</th>\n",
       "      <td>2</td>\n",
       "      <td>28985</td>\n",
       "      <td>2</td>\n",
       "      <td>1</td>\n",
       "    </tr>\n",
       "    <tr>\n",
       "      <th>2</th>\n",
       "      <td>2</td>\n",
       "      <td>9327</td>\n",
       "      <td>3</td>\n",
       "      <td>0</td>\n",
       "    </tr>\n",
       "    <tr>\n",
       "      <th>3</th>\n",
       "      <td>2</td>\n",
       "      <td>45918</td>\n",
       "      <td>4</td>\n",
       "      <td>1</td>\n",
       "    </tr>\n",
       "    <tr>\n",
       "      <th>4</th>\n",
       "      <td>2</td>\n",
       "      <td>30035</td>\n",
       "      <td>5</td>\n",
       "      <td>0</td>\n",
       "    </tr>\n",
       "  </tbody>\n",
       "</table>\n",
       "</div>"
      ],
      "text/plain": [
       "   order_id  product_id  add_to_cart_order  reordered\n",
       "0         2       33120                  1          1\n",
       "1         2       28985                  2          1\n",
       "2         2        9327                  3          0\n",
       "3         2       45918                  4          1\n",
       "4         2       30035                  5          0"
      ]
     },
     "execution_count": 14,
     "metadata": {},
     "output_type": "execute_result"
    }
   ],
   "source": [
    "file_order = 'data/order_products__prior.csv'\n",
    "N =  5e5 #500000\n",
    "order_products = pd.read_csv(file_order, chunksize=N)\n",
    "chunk = next(order_products)\n",
    "chunk.head()"
   ]
  },
  {
   "cell_type": "markdown",
   "id": "c4c1b7ab",
   "metadata": {},
   "source": [
    "#### Ý tưởng: \n",
    "Ghép cột department_id từ file 'products.csv' theo product_id từ file 'order_product__prior.csv' và đếm số lần xuất hiện của các department_id "
   ]
  },
  {
   "cell_type": "code",
   "execution_count": 15,
   "id": "7010dbf2",
   "metadata": {
    "scrolled": true
   },
   "outputs": [
    {
     "data": {
      "text/html": [
       "<div>\n",
       "<style scoped>\n",
       "    .dataframe tbody tr th:only-of-type {\n",
       "        vertical-align: middle;\n",
       "    }\n",
       "\n",
       "    .dataframe tbody tr th {\n",
       "        vertical-align: top;\n",
       "    }\n",
       "\n",
       "    .dataframe thead th {\n",
       "        text-align: right;\n",
       "    }\n",
       "</style>\n",
       "<table border=\"1\" class=\"dataframe\">\n",
       "  <thead>\n",
       "    <tr style=\"text-align: right;\">\n",
       "      <th></th>\n",
       "      <th>product_id</th>\n",
       "      <th>product_name</th>\n",
       "      <th>aisle_id</th>\n",
       "      <th>department_id</th>\n",
       "    </tr>\n",
       "  </thead>\n",
       "  <tbody>\n",
       "    <tr>\n",
       "      <th>0</th>\n",
       "      <td>1</td>\n",
       "      <td>Chocolate Sandwich Cookies</td>\n",
       "      <td>61</td>\n",
       "      <td>19</td>\n",
       "    </tr>\n",
       "    <tr>\n",
       "      <th>1</th>\n",
       "      <td>2</td>\n",
       "      <td>All-Seasons Salt</td>\n",
       "      <td>104</td>\n",
       "      <td>13</td>\n",
       "    </tr>\n",
       "    <tr>\n",
       "      <th>2</th>\n",
       "      <td>3</td>\n",
       "      <td>Robust Golden Unsweetened Oolong Tea</td>\n",
       "      <td>94</td>\n",
       "      <td>7</td>\n",
       "    </tr>\n",
       "    <tr>\n",
       "      <th>3</th>\n",
       "      <td>4</td>\n",
       "      <td>Smart Ones Classic Favorites Mini Rigatoni Wit...</td>\n",
       "      <td>38</td>\n",
       "      <td>1</td>\n",
       "    </tr>\n",
       "    <tr>\n",
       "      <th>4</th>\n",
       "      <td>5</td>\n",
       "      <td>Green Chile Anytime Sauce</td>\n",
       "      <td>5</td>\n",
       "      <td>13</td>\n",
       "    </tr>\n",
       "  </tbody>\n",
       "</table>\n",
       "</div>"
      ],
      "text/plain": [
       "   product_id                                       product_name  aisle_id  \\\n",
       "0           1                         Chocolate Sandwich Cookies        61   \n",
       "1           2                                   All-Seasons Salt       104   \n",
       "2           3               Robust Golden Unsweetened Oolong Tea        94   \n",
       "3           4  Smart Ones Classic Favorites Mini Rigatoni Wit...        38   \n",
       "4           5                          Green Chile Anytime Sauce         5   \n",
       "\n",
       "   department_id  \n",
       "0             19  \n",
       "1             13  \n",
       "2              7  \n",
       "3              1  \n",
       "4             13  "
      ]
     },
     "execution_count": 15,
     "metadata": {},
     "output_type": "execute_result"
    }
   ],
   "source": [
    "product_info = 'data/products.csv'\n",
    "product_info = pd.read_csv(product_info)\n",
    "product_info.head()"
   ]
  },
  {
   "cell_type": "code",
   "execution_count": 16,
   "id": "4e27c9eb",
   "metadata": {
    "scrolled": false
   },
   "outputs": [
    {
     "data": {
      "text/html": [
       "<div>\n",
       "<style scoped>\n",
       "    .dataframe tbody tr th:only-of-type {\n",
       "        vertical-align: middle;\n",
       "    }\n",
       "\n",
       "    .dataframe tbody tr th {\n",
       "        vertical-align: top;\n",
       "    }\n",
       "\n",
       "    .dataframe thead th {\n",
       "        text-align: right;\n",
       "    }\n",
       "</style>\n",
       "<table border=\"1\" class=\"dataframe\">\n",
       "  <thead>\n",
       "    <tr style=\"text-align: right;\">\n",
       "      <th></th>\n",
       "      <th>product_id</th>\n",
       "    </tr>\n",
       "  </thead>\n",
       "  <tbody>\n",
       "    <tr>\n",
       "      <th>0</th>\n",
       "      <td>33120</td>\n",
       "    </tr>\n",
       "    <tr>\n",
       "      <th>1</th>\n",
       "      <td>28985</td>\n",
       "    </tr>\n",
       "    <tr>\n",
       "      <th>2</th>\n",
       "      <td>9327</td>\n",
       "    </tr>\n",
       "    <tr>\n",
       "      <th>3</th>\n",
       "      <td>45918</td>\n",
       "    </tr>\n",
       "    <tr>\n",
       "      <th>4</th>\n",
       "      <td>30035</td>\n",
       "    </tr>\n",
       "    <tr>\n",
       "      <th>...</th>\n",
       "      <td>...</td>\n",
       "    </tr>\n",
       "    <tr>\n",
       "      <th>499995</th>\n",
       "      <td>43631</td>\n",
       "    </tr>\n",
       "    <tr>\n",
       "      <th>499996</th>\n",
       "      <td>449</td>\n",
       "    </tr>\n",
       "    <tr>\n",
       "      <th>499997</th>\n",
       "      <td>27903</td>\n",
       "    </tr>\n",
       "    <tr>\n",
       "      <th>499998</th>\n",
       "      <td>46434</td>\n",
       "    </tr>\n",
       "    <tr>\n",
       "      <th>499999</th>\n",
       "      <td>10181</td>\n",
       "    </tr>\n",
       "  </tbody>\n",
       "</table>\n",
       "<p>500000 rows × 1 columns</p>\n",
       "</div>"
      ],
      "text/plain": [
       "        product_id\n",
       "0            33120\n",
       "1            28985\n",
       "2             9327\n",
       "3            45918\n",
       "4            30035\n",
       "...            ...\n",
       "499995       43631\n",
       "499996         449\n",
       "499997       27903\n",
       "499998       46434\n",
       "499999       10181\n",
       "\n",
       "[500000 rows x 1 columns]"
      ]
     },
     "execution_count": 16,
     "metadata": {},
     "output_type": "execute_result"
    }
   ],
   "source": [
    "file_order = 'data/order_products__prior.csv'\n",
    "N =  5e5 #500000\n",
    "order_products = pd.read_csv(file_order, chunksize=N, usecols=['product_id'])\n",
    "chunk = next(order_products)\n",
    "chunk"
   ]
  },
  {
   "cell_type": "markdown",
   "id": "626920fe",
   "metadata": {},
   "source": [
    "##### Note: function select_depID:\n",
    "+ Lấy ra thông tin 2 cột 'product_id' và 'department_id' từ products.csv file rồi lưu nó vào biến product_dep_id\n",
    "+ Dùng hàm merge của pandas để ghép thông tin 'department_id' từ product_dep_id theo product_id (file order_product__prior.csv) rồi lấy ra cột 'department_id' và lưu nó bào biến order_dep\n",
    "+ Đếm số lần xuất hiện của 'department_id' và lưu nó vào dep_count"
   ]
  },
  {
   "cell_type": "code",
   "execution_count": 18,
   "id": "c710f870",
   "metadata": {},
   "outputs": [
    {
     "data": {
      "text/plain": [
       "0         16\n",
       "1         16\n",
       "2         16\n",
       "3         16\n",
       "4         16\n",
       "          ..\n",
       "499995    13\n",
       "499996     7\n",
       "499997    16\n",
       "499998    17\n",
       "499999     7\n",
       "Name: department_id, Length: 500000, dtype: int64"
      ]
     },
     "execution_count": 18,
     "metadata": {},
     "output_type": "execute_result"
    }
   ],
   "source": [
    "    product_dep_id_test = product_info[['product_id','department_id']]\n",
    "    order_dep_test = pd.merge(chunk,product_dep_id_test,\n",
    "                        on='product_id')['department_id']\n",
    "    order_dep_test"
   ]
  },
  {
   "cell_type": "code",
   "execution_count": 19,
   "id": "50786826",
   "metadata": {},
   "outputs": [
    {
     "data": {
      "text/html": [
       "<div>\n",
       "<style scoped>\n",
       "    .dataframe tbody tr th:only-of-type {\n",
       "        vertical-align: middle;\n",
       "    }\n",
       "\n",
       "    .dataframe tbody tr th {\n",
       "        vertical-align: top;\n",
       "    }\n",
       "\n",
       "    .dataframe thead th {\n",
       "        text-align: right;\n",
       "    }\n",
       "</style>\n",
       "<table border=\"1\" class=\"dataframe\">\n",
       "  <thead>\n",
       "    <tr style=\"text-align: right;\">\n",
       "      <th></th>\n",
       "      <th>department_id</th>\n",
       "      <th>counts</th>\n",
       "    </tr>\n",
       "  </thead>\n",
       "  <tbody>\n",
       "    <tr>\n",
       "      <th>0</th>\n",
       "      <td>4</td>\n",
       "      <td>145463</td>\n",
       "    </tr>\n",
       "    <tr>\n",
       "      <th>1</th>\n",
       "      <td>16</td>\n",
       "      <td>83779</td>\n",
       "    </tr>\n",
       "    <tr>\n",
       "      <th>2</th>\n",
       "      <td>19</td>\n",
       "      <td>44513</td>\n",
       "    </tr>\n",
       "    <tr>\n",
       "      <th>3</th>\n",
       "      <td>7</td>\n",
       "      <td>41613</td>\n",
       "    </tr>\n",
       "    <tr>\n",
       "      <th>4</th>\n",
       "      <td>1</td>\n",
       "      <td>34773</td>\n",
       "    </tr>\n",
       "  </tbody>\n",
       "</table>\n",
       "</div>"
      ],
      "text/plain": [
       "   department_id  counts\n",
       "0              4  145463\n",
       "1             16   83779\n",
       "2             19   44513\n",
       "3              7   41613\n",
       "4              1   34773"
      ]
     },
     "execution_count": 19,
     "metadata": {},
     "output_type": "execute_result"
    }
   ],
   "source": [
    "def select_depID(chunk):\n",
    "    product_dep_id = product_info[['product_id','department_id']]\n",
    "    order_dep = pd.merge(chunk,product_dep_id,\n",
    "                        on='product_id')['department_id']\n",
    "    dep_count = order_dep.value_counts().reset_index()\n",
    "    dep_count.columns = ['department_id','counts']\n",
    "    return dep_count\n",
    "\n",
    "total_dep_count = select_depID(chunk)\n",
    "total_dep_count.head()"
   ]
  },
  {
   "cell_type": "markdown",
   "id": "c7942a5b",
   "metadata": {},
   "source": [
    "##### for loop để đếm số lần xuất hiện của department_id các chunk còn lại\n",
    "+ input các chunk trong order_products(file order_product__prior.csv) vào hàm select_depID để đếm số lần xuất hiện của từng department_id trong chunk đó\n",
    "+ dùng hàm concat của pandas để nối nó tiếp tục với total_dep_count của chunk đầu tiên"
   ]
  },
  {
   "cell_type": "code",
   "execution_count": 20,
   "id": "ed029713",
   "metadata": {},
   "outputs": [
    {
     "name": "stdout",
     "output_type": "stream",
     "text": [
      "before for loop: (21, 2)\n",
      "after for loop: (1365, 2)\n"
     ]
    }
   ],
   "source": [
    "print('before for loop:', total_dep_count.shape)\n",
    "for i, chunk in enumerate(order_products):\n",
    "    chunk_count = select_depID(chunk)\n",
    "    total_dep_count = pd.concat([total_dep_count, chunk_count])\n",
    "print('after for loop:', total_dep_count.shape)\n",
    "    "
   ]
  },
  {
   "cell_type": "markdown",
   "id": "0cb1af7a",
   "metadata": {},
   "source": [
    "##### groupby theo 'department_id' và tính tổng số lần xuất hiện của mỗi 'department_id'"
   ]
  },
  {
   "cell_type": "code",
   "execution_count": 21,
   "id": "d61554a4",
   "metadata": {},
   "outputs": [
    {
     "name": "stdout",
     "output_type": "stream",
     "text": [
      "   department_id   counts\n",
      "0              1  2236432\n",
      "1              2    36291\n",
      "2              3  1176787\n",
      "3              4  9479291\n",
      "4              5   153696\n",
      "    department_id   counts\n",
      "16             17   738666\n",
      "17             18   423802\n",
      "18             19  2887550\n",
      "19             20  1051249\n",
      "20             21    69145\n"
     ]
    }
   ],
   "source": [
    "total_dep_count = total_dep_count.groupby(['department_id']).sum().reset_index()\n",
    "print(total_dep_count.head())\n",
    "print(total_dep_count.tail())"
   ]
  },
  {
   "cell_type": "code",
   "execution_count": 22,
   "id": "6539d016",
   "metadata": {},
   "outputs": [
    {
     "data": {
      "text/html": [
       "<div>\n",
       "<style scoped>\n",
       "    .dataframe tbody tr th:only-of-type {\n",
       "        vertical-align: middle;\n",
       "    }\n",
       "\n",
       "    .dataframe tbody tr th {\n",
       "        vertical-align: top;\n",
       "    }\n",
       "\n",
       "    .dataframe thead th {\n",
       "        text-align: right;\n",
       "    }\n",
       "</style>\n",
       "<table border=\"1\" class=\"dataframe\">\n",
       "  <thead>\n",
       "    <tr style=\"text-align: right;\">\n",
       "      <th></th>\n",
       "      <th>department_id</th>\n",
       "      <th>counts</th>\n",
       "    </tr>\n",
       "  </thead>\n",
       "  <tbody>\n",
       "    <tr>\n",
       "      <th>3</th>\n",
       "      <td>4</td>\n",
       "      <td>9479291</td>\n",
       "    </tr>\n",
       "    <tr>\n",
       "      <th>15</th>\n",
       "      <td>16</td>\n",
       "      <td>5414016</td>\n",
       "    </tr>\n",
       "    <tr>\n",
       "      <th>18</th>\n",
       "      <td>19</td>\n",
       "      <td>2887550</td>\n",
       "    </tr>\n",
       "    <tr>\n",
       "      <th>6</th>\n",
       "      <td>7</td>\n",
       "      <td>2690129</td>\n",
       "    </tr>\n",
       "    <tr>\n",
       "      <th>0</th>\n",
       "      <td>1</td>\n",
       "      <td>2236432</td>\n",
       "    </tr>\n",
       "    <tr>\n",
       "      <th>12</th>\n",
       "      <td>13</td>\n",
       "      <td>1875577</td>\n",
       "    </tr>\n",
       "    <tr>\n",
       "      <th>2</th>\n",
       "      <td>3</td>\n",
       "      <td>1176787</td>\n",
       "    </tr>\n",
       "    <tr>\n",
       "      <th>14</th>\n",
       "      <td>15</td>\n",
       "      <td>1068058</td>\n",
       "    </tr>\n",
       "    <tr>\n",
       "      <th>19</th>\n",
       "      <td>20</td>\n",
       "      <td>1051249</td>\n",
       "    </tr>\n",
       "    <tr>\n",
       "      <th>8</th>\n",
       "      <td>9</td>\n",
       "      <td>866627</td>\n",
       "    </tr>\n",
       "  </tbody>\n",
       "</table>\n",
       "</div>"
      ],
      "text/plain": [
       "    department_id   counts\n",
       "3               4  9479291\n",
       "15             16  5414016\n",
       "18             19  2887550\n",
       "6               7  2690129\n",
       "0               1  2236432\n",
       "12             13  1875577\n",
       "2               3  1176787\n",
       "14             15  1068058\n",
       "19             20  1051249\n",
       "8               9   866627"
      ]
     },
     "execution_count": 22,
     "metadata": {},
     "output_type": "execute_result"
    }
   ],
   "source": [
    "top10_sel_depID = total_dep_count.nlargest(10, columns='counts')\n",
    "top10_sel_depID"
   ]
  },
  {
   "cell_type": "markdown",
   "id": "3967bbf5",
   "metadata": {},
   "source": [
    "<!-- #  --> ghép tên của department theo department ID"
   ]
  },
  {
   "cell_type": "code",
   "execution_count": 23,
   "id": "c94f236b",
   "metadata": {},
   "outputs": [
    {
     "data": {
      "text/html": [
       "<div>\n",
       "<style scoped>\n",
       "    .dataframe tbody tr th:only-of-type {\n",
       "        vertical-align: middle;\n",
       "    }\n",
       "\n",
       "    .dataframe tbody tr th {\n",
       "        vertical-align: top;\n",
       "    }\n",
       "\n",
       "    .dataframe thead th {\n",
       "        text-align: right;\n",
       "    }\n",
       "</style>\n",
       "<table border=\"1\" class=\"dataframe\">\n",
       "  <thead>\n",
       "    <tr style=\"text-align: right;\">\n",
       "      <th></th>\n",
       "      <th>department_id</th>\n",
       "      <th>counts</th>\n",
       "      <th>department</th>\n",
       "    </tr>\n",
       "  </thead>\n",
       "  <tbody>\n",
       "    <tr>\n",
       "      <th>0</th>\n",
       "      <td>4</td>\n",
       "      <td>9479291</td>\n",
       "      <td>produce</td>\n",
       "    </tr>\n",
       "    <tr>\n",
       "      <th>1</th>\n",
       "      <td>16</td>\n",
       "      <td>5414016</td>\n",
       "      <td>dairy eggs</td>\n",
       "    </tr>\n",
       "    <tr>\n",
       "      <th>2</th>\n",
       "      <td>19</td>\n",
       "      <td>2887550</td>\n",
       "      <td>snacks</td>\n",
       "    </tr>\n",
       "    <tr>\n",
       "      <th>3</th>\n",
       "      <td>7</td>\n",
       "      <td>2690129</td>\n",
       "      <td>beverages</td>\n",
       "    </tr>\n",
       "    <tr>\n",
       "      <th>4</th>\n",
       "      <td>1</td>\n",
       "      <td>2236432</td>\n",
       "      <td>frozen</td>\n",
       "    </tr>\n",
       "    <tr>\n",
       "      <th>5</th>\n",
       "      <td>13</td>\n",
       "      <td>1875577</td>\n",
       "      <td>pantry</td>\n",
       "    </tr>\n",
       "    <tr>\n",
       "      <th>6</th>\n",
       "      <td>3</td>\n",
       "      <td>1176787</td>\n",
       "      <td>bakery</td>\n",
       "    </tr>\n",
       "    <tr>\n",
       "      <th>7</th>\n",
       "      <td>15</td>\n",
       "      <td>1068058</td>\n",
       "      <td>canned goods</td>\n",
       "    </tr>\n",
       "    <tr>\n",
       "      <th>8</th>\n",
       "      <td>20</td>\n",
       "      <td>1051249</td>\n",
       "      <td>deli</td>\n",
       "    </tr>\n",
       "    <tr>\n",
       "      <th>9</th>\n",
       "      <td>9</td>\n",
       "      <td>866627</td>\n",
       "      <td>dry goods pasta</td>\n",
       "    </tr>\n",
       "  </tbody>\n",
       "</table>\n",
       "</div>"
      ],
      "text/plain": [
       "   department_id   counts       department\n",
       "0              4  9479291          produce\n",
       "1             16  5414016       dairy eggs\n",
       "2             19  2887550           snacks\n",
       "3              7  2690129        beverages\n",
       "4              1  2236432           frozen\n",
       "5             13  1875577           pantry\n",
       "6              3  1176787           bakery\n",
       "7             15  1068058     canned goods\n",
       "8             20  1051249             deli\n",
       "9              9   866627  dry goods pasta"
      ]
     },
     "execution_count": 23,
     "metadata": {},
     "output_type": "execute_result"
    }
   ],
   "source": [
    "name_dep = 'data/departments.csv'\n",
    "name_dep = pd.read_csv(name_dep)\n",
    "top10_sel_depName = pd.merge(top10_sel_depID, name_dep, \n",
    "                             on='department_id')\n",
    "top10_sel_depName"
   ]
  },
  {
   "cell_type": "code",
   "execution_count": 24,
   "id": "3d1e6f3d",
   "metadata": {},
   "outputs": [
    {
     "data": {
      "image/png": "[encoded data removed]",
      "text/plain": [
       "<Figure size 936x648 with 1 Axes>"
      ]
     },
     "metadata": {
      "needs_background": "light"
     },
     "output_type": "display_data"
    }
   ],
   "source": [
    "ax = top10_sel_depName.plot.bar(x='department', y='counts', width=0.8, figsize=(13,9), \n",
    "                           color='tomato', legend=None, rot=-60)\n",
    "ax.bar_label(container=ax.containers[0], label_type='center', fontsize=8.5, rotation=60, weight='bold')\n",
    "ax.set_title('Top 10 departments bán được nhiều sản phẩm nhất',fontsize=20,color='blue',weight='bold')\n",
    "ax.set_xlabel('Department',fontsize=18,color='blue')\n",
    "ax.set_ylabel('Counts',fontsize=18,color='blue')\n",
    "ax.set_xticks(top10_sel_depName.index-0.3)\n",
    "ax.spines['top'].set_visible(False)\n",
    "ax.spines['right'].set_visible(False)\n",
    "ax.set_xticklabels(top10_sel_depName['department'], ha='left',fontsize=12)\n",
    "plt.show()\n",
    "plt.close('all')"
   ]
  },
  {
   "cell_type": "markdown",
   "id": "4317bfb3",
   "metadata": {},
   "source": [
    "#  Bài 2:\n",
    "+ Ngoài 10 aisle/department bán được nhiều sản phẩm nhất, tính tổng số sản\n",
    "phẩm đã bán được của phần còn lại\n",
    "+ Vẽ biểu đồ tree-map hiển thị kết quả trên"
   ]
  },
  {
   "cell_type": "markdown",
   "id": "21614203",
   "metadata": {},
   "source": [
    "#### Ý tưởng:\n",
    "+ tính tổng số lần xuất hiện của các department còn lại nhờ và nsmallest+sum và concat nó với top10 sell departmetn ID"
   ]
  },
  {
   "cell_type": "code",
   "execution_count": 26,
   "id": "4e24b279",
   "metadata": {},
   "outputs": [
    {
     "data": {
      "text/html": [
       "<div>\n",
       "<style scoped>\n",
       "    .dataframe tbody tr th:only-of-type {\n",
       "        vertical-align: middle;\n",
       "    }\n",
       "\n",
       "    .dataframe tbody tr th {\n",
       "        vertical-align: top;\n",
       "    }\n",
       "\n",
       "    .dataframe thead th {\n",
       "        text-align: right;\n",
       "    }\n",
       "</style>\n",
       "<table border=\"1\" class=\"dataframe\">\n",
       "  <thead>\n",
       "    <tr style=\"text-align: right;\">\n",
       "      <th></th>\n",
       "      <th>counts</th>\n",
       "      <th>department</th>\n",
       "    </tr>\n",
       "  </thead>\n",
       "  <tbody>\n",
       "    <tr>\n",
       "      <th>0</th>\n",
       "      <td>9479291</td>\n",
       "      <td>produce</td>\n",
       "    </tr>\n",
       "    <tr>\n",
       "      <th>1</th>\n",
       "      <td>5414016</td>\n",
       "      <td>dairy eggs</td>\n",
       "    </tr>\n",
       "    <tr>\n",
       "      <th>2</th>\n",
       "      <td>2887550</td>\n",
       "      <td>snacks</td>\n",
       "    </tr>\n",
       "    <tr>\n",
       "      <th>3</th>\n",
       "      <td>2690129</td>\n",
       "      <td>beverages</td>\n",
       "    </tr>\n",
       "    <tr>\n",
       "      <th>4</th>\n",
       "      <td>2236432</td>\n",
       "      <td>frozen</td>\n",
       "    </tr>\n",
       "    <tr>\n",
       "      <th>5</th>\n",
       "      <td>1875577</td>\n",
       "      <td>pantry</td>\n",
       "    </tr>\n",
       "    <tr>\n",
       "      <th>6</th>\n",
       "      <td>1176787</td>\n",
       "      <td>bakery</td>\n",
       "    </tr>\n",
       "    <tr>\n",
       "      <th>7</th>\n",
       "      <td>1068058</td>\n",
       "      <td>canned goods</td>\n",
       "    </tr>\n",
       "    <tr>\n",
       "      <th>8</th>\n",
       "      <td>1051249</td>\n",
       "      <td>deli</td>\n",
       "    </tr>\n",
       "    <tr>\n",
       "      <th>9</th>\n",
       "      <td>866627</td>\n",
       "      <td>dry goods pasta</td>\n",
       "    </tr>\n",
       "    <tr>\n",
       "      <th>10</th>\n",
       "      <td>3688773</td>\n",
       "      <td>others</td>\n",
       "    </tr>\n",
       "  </tbody>\n",
       "</table>\n",
       "</div>"
      ],
      "text/plain": [
       "     counts       department\n",
       "0   9479291          produce\n",
       "1   5414016       dairy eggs\n",
       "2   2887550           snacks\n",
       "3   2690129        beverages\n",
       "4   2236432           frozen\n",
       "5   1875577           pantry\n",
       "6   1176787           bakery\n",
       "7   1068058     canned goods\n",
       "8   1051249             deli\n",
       "9    866627  dry goods pasta\n",
       "10  3688773           others"
      ]
     },
     "execution_count": 26,
     "metadata": {},
     "output_type": "execute_result"
    }
   ],
   "source": [
    "# total_dep_count = total_dep_count.sort_values(by=['counts'],\n",
    "#                                              ascending=False)\n",
    "other_dep_count = total_dep_count.nsmallest(total_dep_count.shape[0]-10,columns='counts')\n",
    "sum_other_dep = other_dep_count['counts'].sum()\n",
    "df_other_dep = pd.DataFrame(data=[[sum_other_dep,'others']], columns=['counts','department'])\n",
    "\n",
    "total_dep = top10_sel_depName.copy()\n",
    "total_dep.pop('department_id')\n",
    "total_dep = pd.concat([total_dep, df_other_dep]).reset_index(drop=True)\n",
    "total_dep"
   ]
  },
  {
   "cell_type": "code",
   "execution_count": 27,
   "id": "edf8f5c8",
   "metadata": {},
   "outputs": [
    {
     "data": {
      "image/png": "[encoded data removed]",
      "text/plain": [
       "<Figure size 1008x432 with 1 Axes>"
      ]
     },
     "metadata": {
      "needs_background": "light"
     },
     "output_type": "display_data"
    }
   ],
   "source": [
    "import squarify\n",
    "fig = plt.figure(figsize=(14,6))\n",
    "ax = fig.add_subplot(1,1,1)\n",
    "ax.set_title('Top sell products', fontsize=16, weight='bold',color='darkblue')\n",
    "squarify.plot(sizes=total_dep['counts'],label=total_dep['department'],ax=ax,pad=True)\n",
    "plt.show()"
   ]
  },
  {
   "cell_type": "code",
   "execution_count": null,
   "id": "c66861b5",
   "metadata": {},
   "outputs": [],
   "source": []
  }
 ],
 "metadata": {
  "kernelspec": {
   "display_name": "Python 3 (ipykernel)",
   "language": "python",
   "name": "python3"
  },
  "language_info": {
   "codemirror_mode": {
    "name": "ipython",
    "version": 3
   },
   "file_extension": ".py",
   "mimetype": "text/x-python",
   "name": "python",
   "nbconvert_exporter": "python",
   "pygments_lexer": "ipython3",
   "version": "3.8.8"
  }
 },
 "nbformat": 4,
 "nbformat_minor": 5
}
